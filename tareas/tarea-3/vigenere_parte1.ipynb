{
  "nbformat": 4,
  "nbformat_minor": 0,
  "metadata": {
    "colab": {
      "provenance": []
    },
    "kernelspec": {
      "name": "python3",
      "display_name": "Python 3"
    },
    "language_info": {
      "name": "python"
    }
  },
  "cells": [
    {
      "cell_type": "markdown",
      "source": [
        "# **Tarea 3: Vigenère**\n",
        "\n",
        "*Integrantes:*\n",
        "\n",
        "Acosta Arzate Ruben - 317205776\n",
        "\n",
        "Bernal Márquez Erick - 317042522\n",
        "\n",
        "Deloya Andrade Ana Valeria - 317277582\n",
        "\n",
        "Rivera Silva Marco Antonio - 318183583"
      ],
      "metadata": {
        "id": "CZn8jXcG2OlD"
      }
    },
    {
      "cell_type": "markdown",
      "source": [
        "Declaramos nuestras primeras variables, estas son un texto de prueba y un texto de prueba limpio, sin acentos, signos, comas, etc."
      ],
      "metadata": {
        "id": "jfb0yE3SIvHl"
      }
    },
    {
      "cell_type": "code",
      "source": [
        "'''variable file para poner el nombre del archivo'''\n",
        "file='Prueba.txt'\n",
        "alfabeto=['a','b','c','d','e','f','g','h','i','j','k','l','m','n','o','p','q','r','s','t','u','v','w','x','y','z']\n",
        "\n",
        "texto_prueba='''Si, fui yo responsable de que todo acabó\n",
        "No te agarre de humor y así el mundo perdió su color\n",
        "¿Cuántos días van?, ¿Cuántos más me faltarán?\n",
        "Despertar del coma, cambiar el canal, no volver a cantar jamás\n",
        "Si, fui yo el que de esta mala obra fue autor\n",
        "Cambié camino, cheque el reloj, pero mi norte al final se perdió\n",
        "Tienen que acabar estas canciones miseras\n",
        "Cabeza arriba y sentirme capaz, no volver a cantar jamás\n",
        "Tengo miedo de pedir perdón\n",
        "Tengo miedo de hacer esto peor\n",
        "Tengo mucho miedo de olvidarte, pero poco a poco olvido tu voz\n",
        "Tengo miedo de rezarle a Dios\n",
        "Tengo miedo de tener más valor\n",
        "Para ser sincero también tengo miedo de que poco a poco olvide tu voz\n",
        "Sé que estamos lejos, mas nunca pude decir adiós\n",
        "¿Cuántos días van?, ¿Cuántos más me faltarán?\n",
        "Aceptar mi derrota y ya, volverte a cantar, jamás\n",
        "Tengo miedo de pedir perdón\n",
        "Tengo miedo de hacer esto peor\n",
        "Tengo mucho miedo de olvidarte, pero poco a poco olvido tu voz\n",
        "Tengo miedo de tener la razón\n",
        "Tengo miedo de hasta darte una flor\n",
        "Haz algo al respecto\n",
        "Aunque sea incorrecto porque poco a poco olvido tu voz\n",
        "Sé que es lo de menos, mas lo único que tengo es tu voz'''\n",
        "\n",
        "texto_prueba_limpio='sifuiyoresponsabledequetodoacabonoteagarredehumoryasielmundoperdiosucolorcuantosdiasvancuantosmasmefaltarandespertardelcomacambiarelcanalnovolveracantarjamassifuiyoelquedeestamalaobrafueautorcambiecaminochequeelrelojperominortealfinalseperdiotienenqueacabarestascancionesmiserascabezaarribaysentirmecapaznovolveracantarjamastengomiedodepedirperdontengomiedodehacerestopeortengomuchomiedodeolvidarteperopocoapocoolvidotuvoztengomiedoderezarleadiostengomiedodetenermasvalorparasersincerotambientengomiedodequepocoapocoolvidetuvozsequeestamoslejosmasnuncapudedeciradioscuantosdiasvancuantosmasmefaltaranaceptarmiderrotayyavolverteacantarjamastengomiedodepedirperdontengomiedodehacerestopeortengomuchomiedodeolvidarteperopocoapocoolvidotuvoztengomiedodetenerlarazontengomiedodehastadarteunaflorhazalgoalrespectoaunqueseaincorrectoporquepocoapocoolvidotuvozsequeeslodemenosmaslounicoquetengoestuvoz'\n",
        "texto_prueba_limpio_espacios='si fui yo responsable de que todo acabo no te agarre de humor y asi el mundo perdio su color cuantos dias van cuantos mas me faltaran despertar del coma cambiar el canal no volver a cantar jamas si fui yo el que de esta mala obra fue autor cambie camino cheque el reloj pero mi norte al final se perdio tienen que acabar estas canciones miseras cabeza arriba y sentirme capaz no volver a cantar jamas tengo miedo de pedir perdon tengo miedo de hacer esto peor tengo mucho miedo de olvidarte pero poco a poco olvido tu voz tengo miedo de rezarle a dios tengo miedo de tener mas valor para ser sincero tambien tengo miedo de que poco a poco olvide tu voz se que estamos lejos mas nunca pude decir adios cuantos dias van cuantos mas me faltaran aceptar mi derrota y ya volverte a cantar jamas tengo miedo de pedir perdon tengo miedo de hacer esto peor tengo mucho miedo de olvidarte pero poco a poco olvido tu voz tengo miedo de tener la razon tengo miedo de hasta darte una flor haz algo al respecto aunque sea incorrecto por que poco a poco olvido tu voz se que es lo de menos mas lo unico que tengo es tu voz'\n",
        "\n",
        "len(texto_prueba_limpio)"
      ],
      "metadata": {
        "id": "pXsL0udGI7cp",
        "colab": {
          "base_uri": "https://localhost:8080/"
        },
        "outputId": "c1d9c0d3-b50c-4b80-da51-293f39c6c5e3"
      },
      "execution_count": null,
      "outputs": [
        {
          "output_type": "execute_result",
          "data": {
            "text/plain": [
              "893"
            ]
          },
          "metadata": {},
          "execution_count": 1
        }
      ]
    },
    {
      "cell_type": "markdown",
      "source": [
        "### 1. Función que devuelva el indice de coincidencias de un texto T\n",
        "Hacemos una función para calcular el número de frecuencias de una letra"
      ],
      "metadata": {
        "id": "ty-TYvv_JBGF"
      }
    },
    {
      "cell_type": "code",
      "source": [
        "'''Cuenta cuantos caracteres hay'''\n",
        "'''metodo auxiliar frecuencia que nos regresa cuantas veces se repite una letra en el texto'''\n",
        "def frecuencia(letra,texto):\n",
        "  contador=0\n",
        "  for caracter in texto:\n",
        "    if caracter==letra:\n",
        "       contador+=1\n",
        "  return contador\n",
        "\n",
        "'''Cuenta la frecuencia de caracteres en un formato bonito xd'''\n",
        "def frecuencia_caracteres(texto):\n",
        "  frecuencias=[]\n",
        "  for c in alfabeto:\n",
        "    veces = frecuencia(c, texto) #100*frecuencia(c, texto)/len(texto), era con numeros, no con porcentaje xd\n",
        "    t = (c, veces)\n",
        "    frecuencias.append(t)\n",
        "  return frecuencias\n",
        "\n",
        "frecuencia_caracteres(texto_prueba_limpio)"
      ],
      "metadata": {
        "id": "QNCoWJCOJGHN",
        "colab": {
          "base_uri": "https://localhost:8080/"
        },
        "outputId": "fcfa98ac-48b2-4c0d-bfff-73d869ab575e"
      },
      "execution_count": null,
      "outputs": [
        {
          "output_type": "execute_result",
          "data": {
            "text/plain": [
              "[('a', 99),\n",
              " ('b', 9),\n",
              " ('c', 40),\n",
              " ('d', 50),\n",
              " ('e', 123),\n",
              " ('f', 7),\n",
              " ('g', 14),\n",
              " ('h', 8),\n",
              " ('i', 46),\n",
              " ('j', 5),\n",
              " ('k', 0),\n",
              " ('l', 32),\n",
              " ('m', 37),\n",
              " ('n', 51),\n",
              " ('o', 111),\n",
              " ('p', 27),\n",
              " ('q', 10),\n",
              " ('r', 59),\n",
              " ('s', 46),\n",
              " ('t', 50),\n",
              " ('u', 33),\n",
              " ('v', 20),\n",
              " ('w', 0),\n",
              " ('x', 0),\n",
              " ('y', 6),\n",
              " ('z', 10)]"
            ]
          },
          "metadata": {},
          "execution_count": 2
        }
      ]
    },
    {
      "cell_type": "markdown",
      "source": [
        "En efecto, la letra que mas se repite es la letra 'e', seguido de la 'a'.\n"
      ],
      "metadata": {
        "id": "L4yEVhUGPJtJ"
      }
    },
    {
      "cell_type": "markdown",
      "source": [
        "Dada las siguiente fórmula podemos obtener el Índice de Coincidencias de un texto:\n",
        "\n",
        "$$IC(T) = \\sum_{i=1}^{26} \\frac{(F_x)(F_x-1)}{N(N-1)}$$\n",
        "\n",
        "Donde $F_x$ indica la frecuencia del caracter y $N$ la longitd del texto."
      ],
      "metadata": {
        "id": "7V8Iocn8QKEU"
      }
    },
    {
      "cell_type": "code",
      "source": [
        "'''Funcion auxiliar para obtener solo la frecuencia de las letras'''\n",
        "def obten_lista_frecuencias(lista_tuplas):\n",
        "  l = []\n",
        "  for t in lista_tuplas:\n",
        "    l.append(t[1])\n",
        "  return l\n",
        "\n",
        "#guarda las frecuencias de las letras en una lista\n",
        "frecuencias= obten_lista_frecuencias(frecuencia_caracteres(texto_prueba_limpio))\n",
        "\n",
        "def indice_coincidencias(texto):\n",
        "  ic = 0\n",
        "  for i in range(26):\n",
        "    #le sacamos la frecuencia a cada una de las letras y las sumamos tantas veces como longitud de nuestro alafabeto\n",
        "    #en este caso 26\n",
        "    f = frecuencias[i]\n",
        "    longitud_N = len(texto)\n",
        "    ic+=(frecuencias[i]*(frecuencias[i]-1))/((longitud_N)*(longitud_N-1))\n",
        "  return ic\n",
        "\n",
        "indice_coincidencias(texto_prueba_limpio)"
      ],
      "metadata": {
        "id": "xdJZk0LJSMgO",
        "colab": {
          "base_uri": "https://localhost:8080/"
        },
        "outputId": "b50712d5-a9a6-48eb-86fb-33fa5e4445a9"
      },
      "execution_count": null,
      "outputs": [
        {
          "output_type": "execute_result",
          "data": {
            "text/plain": [
              "0.07348384796549146"
            ]
          },
          "metadata": {},
          "execution_count": 3
        }
      ]
    },
    {
      "cell_type": "markdown",
      "source": [
        "Vemos que, en efecto el IC se acerca bastante a 0.74\n",
        "\n",
        "---\n",
        "\n",
        "### 2. Función que devuelve el número de alfabetos\n",
        "Basta con aplicar la siguiente fórmula vista en clase el miércoles 8 de Septiembre:\n",
        "\n",
        "$$r \\approx \\frac{(0.036)N}{IC(T)(N-1)-(0.038)N + 0.0744}$$\n",
        "\n",
        "Donde $T$ es el texto y $N$ la longitud del alfabeto"
      ],
      "metadata": {
        "id": "LzG50ptSgMGR"
      }
    },
    {
      "cell_type": "code",
      "source": [
        "'''metodo que aplicando la formula nos devuelve el numero de alfabetos en un cifrado Vigenere'''\n",
        "def numero_alfabetos(texto):\n",
        "  #solo seguimos la formula xd\n",
        "  longitud_N = len(texto)\n",
        "  ic=indice_coincidencias(texto)\n",
        "  alfabetos=(0.036*longitud_N) / ( (ic*longitud_N-1) - (0.038*longitud_N) + 0.0744)\n",
        "  return alfabetos\n",
        "r = numero_alfabetos(texto_prueba_limpio)\n",
        "r"
      ],
      "metadata": {
        "id": "m2F9EnPmjlHt",
        "colab": {
          "base_uri": "https://localhost:8080/"
        },
        "outputId": "bd506c1e-03b5-41f7-d795-6abc610f3dac"
      },
      "execution_count": null,
      "outputs": [
        {
          "output_type": "execute_result",
          "data": {
            "text/plain": [
              "1.045073381924383"
            ]
          },
          "metadata": {},
          "execution_count": 4
        }
      ]
    },
    {
      "cell_type": "markdown",
      "source": [
        "Vemos que, en efecto el número de alfabetos se aproxima a 1\n",
        "\n",
        "---\n",
        "\n",
        "### 3. Función que busque cadenas repetidas, de su distancia y los factores primos de esa distancia.\n",
        "\n",
        "Para ello divimos el algoritmo en varios algotimos más\n",
        "\n",
        "#### 3.1. Cadenas Repetidas\n",
        "\n",
        "Primero encontraremos las secuencias repetidas en un texto:\n"
      ],
      "metadata": {
        "id": "NVvfJ_OinF8c"
      }
    },
    {
      "cell_type": "code",
      "source": [
        "def repetidas(texto):\n",
        "  sec_repetidas=[]\n",
        "  longitud_i = 2\n",
        "  #buscamos secuencias de longitud 2, luego 3, luego 4, así hasta que lleguemos a la longitud del texto\n",
        "  while longitud_i < len(texto):\n",
        "    # para todas la palabras de longitud n, n-1,, n-2, ...\n",
        "    for inicio in range(len(texto)-longitud_i+1):\n",
        "      #hacemos palabras de 2 caracteres, de 3, de 4, ...\n",
        "      #con base a la posicion\n",
        "      secuencia = texto[inicio:inicio+longitud_i]\n",
        "      #comprobamos si se encuentra en el texto hasta llegar al final\n",
        "      if secuencia in texto[inicio+longitud_i:]:\n",
        "        sec_repetidas.append(secuencia)\n",
        "    longitud_i +=1\n",
        "  #en la lista en veces nos aparecen repetidas xd, la transformamos en conjunto\n",
        "  #de acuerdo a la documentacion de python https://wiki.python.org/moin/TimeComplexity la complejidad es O(1)\n",
        "  sec_rep = set(sec_repetidas)\n",
        "  return sec_rep\n",
        "\n",
        "#otro ejemplo pequeno para que no se tarde tanto xd\n",
        "texto = 'estaesunacadenadejemploparaencontrarsecuenciasdepalabrasrepetidasendeunejemestasecunestas'\n",
        "#las secuencias repetidas\n",
        "sec = repetidas(texto)\n",
        "sec\n"
      ],
      "metadata": {
        "id": "LGhh2Ink4FbG",
        "colab": {
          "base_uri": "https://localhost:8080/"
        },
        "outputId": "a8fcbf3b-7e13-423e-e9ca-ca6c05d161e3"
      },
      "execution_count": null,
      "outputs": [
        {
          "output_type": "execute_result",
          "data": {
            "text/plain": [
              "{'ad',\n",
              " 'ade',\n",
              " 'ae',\n",
              " 'ar',\n",
              " 'as',\n",
              " 'ase',\n",
              " 'cu',\n",
              " 'de',\n",
              " 'ec',\n",
              " 'ecu',\n",
              " 'ej',\n",
              " 'eje',\n",
              " 'ejem',\n",
              " 'em',\n",
              " 'en',\n",
              " 'enc',\n",
              " 'ep',\n",
              " 'es',\n",
              " 'est',\n",
              " 'esta',\n",
              " 'estas',\n",
              " 'je',\n",
              " 'jem',\n",
              " 'na',\n",
              " 'nc',\n",
              " 'ne',\n",
              " 'pa',\n",
              " 'ra',\n",
              " 'se',\n",
              " 'sec',\n",
              " 'secu',\n",
              " 'st',\n",
              " 'sta',\n",
              " 'stas',\n",
              " 'ta',\n",
              " 'tas',\n",
              " 'un',\n",
              " 'une'}"
            ]
          },
          "metadata": {},
          "execution_count": 5
        }
      ]
    },
    {
      "cell_type": "markdown",
      "source": [
        "Ahora encontramos los índices de las palabras repetidas, haremos una función auxiliar para que solo nos dé los índices de una sola secuencia repetida, así la vamos a mandar a llamar por cada repetición en nuestra lista."
      ],
      "metadata": {
        "id": "CFMRfuKqMInR"
      }
    },
    {
      "cell_type": "code",
      "source": [
        "'''Funcion auxiliar que solo calcula los indices de UNA secuencia repetida'''\n",
        "def aux_indices_repetidas(texto, repetida):\n",
        "    indices = []\n",
        "    #encontramos el primer indice\n",
        "    indice = texto.find(repetida)\n",
        "    while indice != -1:\n",
        "        indices.append(indice)\n",
        "        #lo volvemos a encontrar pero esta vez despues del primer indice para la siguiente coincidencia\n",
        "        indice = texto.find(repetida, indice + len(repetida))\n",
        "    return indices\n",
        "\n",
        "\n",
        "'''De cada secuencia repetida busca los indices en un formato [(secuencia,[indices]),(secuencia,[indices])]'''\n",
        "#esto es solo para darle un formato bonito, nos basta con obtener la lista de indices\n",
        "#por lo cual no lo consideramos en la complejidad\n",
        "def indices_repetidas(texto, lista_repetidas):\n",
        "  indices_repetidas = []\n",
        "  for r in lista_repetidas:\n",
        "    #obtenemos la lista\n",
        "    l = aux_indices_repetidas(texto, r)\n",
        "    #creamos la tupla\n",
        "    t = (r, l)\n",
        "    #se la argegamos a la lista de repetidos\n",
        "    indices_repetidas.append(t)\n",
        "  return indices_repetidas\n",
        "\n",
        "s = indices_repetidas(texto,sec)\n",
        "s\n"
      ],
      "metadata": {
        "colab": {
          "base_uri": "https://localhost:8080/"
        },
        "id": "fJq5DqgwMQUy",
        "outputId": "5fb70831-01aa-4961-aaad-7f4d3c9ab8f5"
      },
      "execution_count": null,
      "outputs": [
        {
          "output_type": "execute_result",
          "data": {
            "text/plain": [
              "[('esta', [0, 75, 84]),\n",
              " ('enc', [27, 40]),\n",
              " ('se', [36, 64, 79]),\n",
              " ('eje', [16, 71]),\n",
              " ('na', [7, 13]),\n",
              " ('ra', [25, 33, 53]),\n",
              " ('em', [18, 73]),\n",
              " ('ta', [2, 77, 86]),\n",
              " ('ecu', [37, 80]),\n",
              " ('une', [69, 82]),\n",
              " ('ar', [24, 34]),\n",
              " ('ep', [47, 57]),\n",
              " ('st', [1, 76, 85]),\n",
              " ('en', [12, 27, 40, 65]),\n",
              " ('nc', [28, 41]),\n",
              " ('es', [0, 4, 75, 84]),\n",
              " ('sta', [1, 76, 85]),\n",
              " ('ase', [63, 78]),\n",
              " ('est', [0, 75, 84]),\n",
              " ('sec', [36, 79]),\n",
              " ('pa', [23, 48]),\n",
              " ('cu', [38, 81]),\n",
              " ('ade', [10, 14]),\n",
              " ('ae', [3, 26]),\n",
              " ('tas', [77, 86]),\n",
              " ('je', [17, 72]),\n",
              " ('secu', [36, 79]),\n",
              " ('stas', [76, 85]),\n",
              " ('ejem', [16, 71]),\n",
              " ('ne', [70, 83]),\n",
              " ('de', [11, 15, 46, 67]),\n",
              " ('un', [6, 69, 82]),\n",
              " ('ad', [10, 14]),\n",
              " ('jem', [17, 72]),\n",
              " ('ec', [37, 80]),\n",
              " ('estas', [75, 84]),\n",
              " ('as', [44, 54, 63, 78, 87]),\n",
              " ('ej', [16, 71])]"
            ]
          },
          "metadata": {},
          "execution_count": 6
        }
      ]
    },
    {
      "cell_type": "markdown",
      "source": [
        "#### 3.2. Distancia Mínima\n",
        "\n",
        "Haremos una función auxiliar que calcule la distancia mínima entre los índices"
      ],
      "metadata": {
        "id": "3Irf2hAQ9WIS"
      }
    },
    {
      "cell_type": "code",
      "source": [
        "'''Funcion auxiliar para que nos regrese solo la lista de indices, sin la secuencia repetida'''\n",
        "#Solo nos interesa los indices, esta funcion se encarga de obtener solo la lista\n",
        "#de \"limpiar\" las cadenas repetidas, por lo cual, no la consideramos en la complejidad\n",
        "def obten_lista_indices(lista_tuplas):\n",
        "  l = []\n",
        "  for t in lista_tuplas:\n",
        "    l.append(t[1])\n",
        "  return l\n",
        "\n",
        "indices = obten_lista_indices(s)\n",
        "\n",
        "'''calcula la distancia minima entre indices de una sola secuencia repetida, los indices estan ordenados para hacer la resta'''\n",
        "def distancia_minima_indices(lista_indices):\n",
        "  #empecemos con que la distancia menor es la de los primeros indices\n",
        "  dis_min = lista_indices[1] - lista_indices[0]\n",
        "  #comprobamos las otras distancias\n",
        "  for i in range(2, len(lista_indices)):\n",
        "    distancia_otra = lista_indices[i]-lista_indices[i-1]\n",
        "    if distancia_otra < dis_min:\n",
        "      dis_min=distancia_otra\n",
        "  return dis_min\n",
        "\n",
        "'''Funcion para obtener el minimo de una lista de listas de indices'''\n",
        "def obten_menor_indices(listas_indices):\n",
        "  distancias=[]\n",
        "  for i in range(len(listas_indices)):\n",
        "    #aqui estamos obteniendo la distancias minimas de cada seciencia repetida\n",
        "    minimo = distancia_minima_indices(listas_indices[i])\n",
        "    distancias.append(minimo)\n",
        "    #y de todas estas escogemos la minima\n",
        "  return min(distancias)\n",
        "\n",
        "\n",
        "m = obten_menor_indices(indices)\n",
        "m"
      ],
      "metadata": {
        "colab": {
          "base_uri": "https://localhost:8080/"
        },
        "id": "oYTTD9R38qz6",
        "outputId": "003c8f9a-ea7e-4c55-e4fb-2bf569644de2"
      },
      "execution_count": null,
      "outputs": [
        {
          "output_type": "execute_result",
          "data": {
            "text/plain": [
              "4"
            ]
          },
          "metadata": {},
          "execution_count": 7
        }
      ]
    },
    {
      "cell_type": "markdown",
      "source": [
        "En la lista de índices repetidos, la menor distancia es de 4 la cual corresponde a la secuencia '_ad_'\n",
        "\n",
        "Lo cual coincide con el resultado que nos devuelve el algoritmo anterior. 4"
      ],
      "metadata": {
        "id": "NTetQ2w1Kfi9"
      }
    },
    {
      "cell_type": "markdown",
      "source": [
        "#### 3.3. Factores Primos\n",
        "\n",
        "Métodos auxiliares para calcular los factores primos de un número\n"
      ],
      "metadata": {
        "id": "mFKfxBQXbqGZ"
      }
    },
    {
      "cell_type": "code",
      "source": [
        "'''metodo auxiliar que nos devuelve una lista con todos los divisores de un numero'''\n",
        "def divisores(numero):\n",
        "  divisores=[]\n",
        "  for i in range(1,numero+1):\n",
        "    if numero%i==0:\n",
        "       divisores.append(i)\n",
        "\n",
        "  return divisores\n",
        "\n",
        "'''metodo auxiliar que nos permite saber si un numero n es primo\n",
        "  Esto lo hacemos obteniendo los divisores de un numero y si como\n",
        "  divisores solo tiene al 1 y a el mismo numero n entonces es primo\n",
        "'''\n",
        "def es_primo(numero):\n",
        "  divs=divisores(numero)\n",
        "  #el 1 no es primo pues solo tiene un divisor\n",
        "  if numero==1:\n",
        "    return False\n",
        "  return (divs[0]==1) and (divs[1]==numero)"
      ],
      "metadata": {
        "id": "PkckMHkjRGLk"
      },
      "execution_count": null,
      "outputs": []
    },
    {
      "cell_type": "markdown",
      "source": [
        "Finalmente obtenemos los factores primos de la menor distancia."
      ],
      "metadata": {
        "id": "GzSheSlE-oAE"
      }
    },
    {
      "cell_type": "code",
      "source": [
        "'''Obtenemos los factores primos de la menor distancia'''\n",
        "def factores_primos(distancia):\n",
        " fac_primos=[]\n",
        " divs=divisores(distancia)\n",
        " for i in range(len(divs)):\n",
        "  if es_primo(divs[i]):\n",
        "    fac_primos.append(divs[i])\n",
        " return fac_primos\n",
        "\n",
        "s = factores_primos(4)\n",
        "s"
      ],
      "metadata": {
        "colab": {
          "base_uri": "https://localhost:8080/"
        },
        "id": "EbQbWQRLsGZD",
        "outputId": "b8f1fea7-b065-4137-ca37-c38a205fd83d"
      },
      "execution_count": null,
      "outputs": [
        {
          "output_type": "execute_result",
          "data": {
            "text/plain": [
              "[2]"
            ]
          },
          "metadata": {},
          "execution_count": 9
        }
      ]
    },
    {
      "cell_type": "markdown",
      "source": [
        "Así el algoritmo final lo implementamos con ayuda de las funciones anteriores"
      ],
      "metadata": {
        "id": "bDv37o4rwWzY"
      }
    },
    {
      "cell_type": "code",
      "source": [
        "texto_final = 'estaesunacadenadejemploparaencontrarsecuenciasdepalabrasrepetidasendeunejemestasecunestas'\n",
        "\n",
        "def repetidas_distancia_factores(texto):\n",
        "  #primer funcion\n",
        "  sec_repetidas = repetidas(texto)\n",
        "  #segunda funcion, primero obtenemos los indices\n",
        "  indices_rep = indices_repetidas(texto, sec_repetidas)\n",
        "  #limpiamos el formato\n",
        "  indices_limpios = obten_lista_indices(indices_rep)\n",
        "  #ahora si obtenemos la menor\n",
        "  menor_dis = obten_menor_indices(indices_limpios)\n",
        "  #tercer funcion, obtenemos factores primos\n",
        "  fp = factores_primos(menor_dis)\n",
        "  return 'Secuencias repetidas: ' + str(sec_repetidas), 'Distancia de las secuencias repetidas: '+str(indices_rep), 'Factores primos de la distancia: '+str(fp)\n",
        "\n",
        "repetidas_distancia_factores(texto_final)"
      ],
      "metadata": {
        "colab": {
          "base_uri": "https://localhost:8080/"
        },
        "id": "yOrQjZIiwU_D",
        "outputId": "e02a36e9-0cc7-40df-c344-3d13a619efa1"
      },
      "execution_count": null,
      "outputs": [
        {
          "output_type": "execute_result",
          "data": {
            "text/plain": [
              "(\"Secuencias repetidas: {'esta', 'enc', 'se', 'eje', 'na', 'ra', 'em', 'ta', 'ecu', 'une', 'ar', 'ep', 'st', 'en', 'nc', 'es', 'sta', 'ase', 'est', 'sec', 'pa', 'cu', 'ade', 'ae', 'tas', 'je', 'secu', 'stas', 'ejem', 'ne', 'de', 'un', 'ad', 'jem', 'ec', 'estas', 'as', 'ej'}\",\n",
              " \"Distancia de las secuencias repetidas: [('esta', [0, 75, 84]), ('enc', [27, 40]), ('se', [36, 64, 79]), ('eje', [16, 71]), ('na', [7, 13]), ('ra', [25, 33, 53]), ('em', [18, 73]), ('ta', [2, 77, 86]), ('ecu', [37, 80]), ('une', [69, 82]), ('ar', [24, 34]), ('ep', [47, 57]), ('st', [1, 76, 85]), ('en', [12, 27, 40, 65]), ('nc', [28, 41]), ('es', [0, 4, 75, 84]), ('sta', [1, 76, 85]), ('ase', [63, 78]), ('est', [0, 75, 84]), ('sec', [36, 79]), ('pa', [23, 48]), ('cu', [38, 81]), ('ade', [10, 14]), ('ae', [3, 26]), ('tas', [77, 86]), ('je', [17, 72]), ('secu', [36, 79]), ('stas', [76, 85]), ('ejem', [16, 71]), ('ne', [70, 83]), ('de', [11, 15, 46, 67]), ('un', [6, 69, 82]), ('ad', [10, 14]), ('jem', [17, 72]), ('ec', [37, 80]), ('estas', [75, 84]), ('as', [44, 54, 63, 78, 87]), ('ej', [16, 71])]\",\n",
              " 'Factores primos de la distancia: [2]')"
            ]
          },
          "metadata": {},
          "execution_count": 10
        }
      ]
    },
    {
      "cell_type": "markdown",
      "source": [
        "#### 3.4. Complejidad del Algoritmo\n",
        "\n",
        "Nuestro algoritmo está definido por varias funciones, entre ellas muchas auxilares, vamos a considerar 3 principales:\n",
        "Una obtiene cadenas repetidas, otra calcula la menor distancia entre estas y la última obtiene los factores primos de la menor distancia.\n",
        "\n",
        "**Cadenas Repetidas:**\n",
        "\n",
        "Notemos que usamos dos ciclos, uno para recorrer todo el texto y otro para hacer las cadenas de diferentes tamaños por lo cual tiene complejidad **O(n²)** donde _n_ es el tamaño del texto en donde queremos buscar, sin embargo hacer una operación para saber si una secuencia se encuentra en otra hacemos una busqueda, la cual tiene complejidad **O(n)**, la busqueda la hacemos dentro del bloque _for_, por lo tanto la complejidad de este algoritmo es de **O(n³)**. También utilizamos la función *set()* de python, según la documentación tiene complejidad **O(1)**\n",
        "\n",
        "**Distancia Mínima:**\n",
        "\n",
        "Para encontrar las distancias mínimas primero debemos encontrar los índices de cada una de las cadenas repetidas, para ello tenemos dos funciones: una auxilar (_aux_indices_repetidas()_) que calcula los índices de **una** secuencia repetida en un _while_, con complejidad **O(n)** donde _n_ es la longitud del texto, pues tendremos que recorrer todo el texto para encontrar los indices\n",
        "\n",
        "Y otra función (_indices_repetidas()_) que calcula los índices de **varias** secuencias repetidas, esto lo hace por cada secuencia de indices repetidos que le pasemos en la lista, en el peor de los casos alguna secuencia se repitió _n_ veces y _m_ es la longitud de la lista que le pasamos (una lista de secuencias repetidas), por lo tanto tiene complejidad **O(m*n)**.\n",
        "\n",
        "**Ejemplo**\n",
        "\n",
        "`lista_inidces=[[1,4,80], [3,5,10], [2,13,21,24], [7,14], [13,26], [8,9]]`\n",
        "\n",
        "Donde _m_ es la longitud de la lista: 6.\n",
        "\n",
        "Y _n_ es la longitud de la lista de indices más larga: 4.\n",
        "\n",
        "Ahora que tenemos los índices calculamos las distancias.\n",
        "_distancia_minima_indices()_ calcula la distancia entre los índices de **UNA** sola secuencia repetida, esto lo hace restando los índices y comparando el mínimo en un solo ciclo _for_, por lo cual tiene complejidad **O(n)** donde _n_ es la longitud de la lista de indices. De manera analoga a los anteriores algortimos, mandamos a llamar la función _distancia_minima_indices()_ en la función _obten_menor_indices()_ para calcular el menor de **varias** listas de indices, por lo cual la complejidad es de **O(n*m)**, donde _n_, en el peor de los casos, es el tamaño de alguna lista de índices dentro de la lista de listas de índices y _m_ el tamaño de la lista de índices.\n",
        "\n",
        "Una vez que hayamos obtenido la menor distancia de cada una de los indices de las secuencias repetidas escogemos la menor de todas, para ello recorremos toda la lista y escogemos el menor, esto lo hacemos con la función _min()_ que nos provee python la cual tiene complejidad **O(m)** donde _m_ es la longitud de la lista, así, en realidad este algoritmo tiene complejidad __O(m*n+m)__.\n",
        "\n",
        "**Ejemplo**\n",
        "\n",
        "`lista_inidces=[[1,4,80], [3,5,10], [2,13,21,24], [7,14], [13,26], [8,9]]`\n",
        "\n",
        "Donde de cada lista de indices obtenemos la menor distancia\n",
        "\n",
        "`lista_inidces_min=[3, 2, 3, 7, 13, 1]`\n",
        "\n",
        "Y para obtener la menor distancia de todas utilizamos _min()_.\n",
        "\n",
        "**Factores Primos:**\n",
        "\n",
        "Para factores primos tenemos una función que nos devuelve todos los divisores de un numero dado, para ello tenemos que dividir el numero entre 1 hasta _n_, por lo cual la complejidad es **O(n)**. Luego para saber si es primo solo comprobamos si los unicos dos divisores fueron 1 y el mismo numero _n_, la complejidad se mantiene igual.\n",
        "\n",
        "Por último, para saber los factores primos de la distancia primero obtenemos sus divisores y de estos divisores extraemos solo los que son primos, para extraerlos usamos un _for_ el cual va desde 1 hasta los divisores que tenga la distancia, así la complejidad es **O(n)** donde n son los divisores de la distancia.\n",
        "\n",
        "Ya que no existe un algoritmo para factorizar un numero en factores primos, no limitamos a obtener los facotores primos de dicho numero, mas no la descomposición en facores primos.\n",
        "\n",
        "La complejidad de nuestro algoritmo final es la suma de todas estas funciones anteriores.\n",
        "\n",
        "- Cadenas repetidas: O(n³)\n",
        "- Distancia minima: O(m*n'+m)\n",
        "- Factores primos: O(n'')\n",
        "\n",
        "Pondremos _n_ primas ya que estas _n_'s son diferentes, por ejemplo la _n_ de las cadenas repetidas hace referencia a la longitud del texto mientras que la _n_ de factores primos hace referencia a los numeros divisores de la distancia."
      ],
      "metadata": {
        "id": "zILFbIy-qcOw"
      }
    }
  ]
}