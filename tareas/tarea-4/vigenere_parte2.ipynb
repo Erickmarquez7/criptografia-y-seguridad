{
  "nbformat": 4,
  "nbformat_minor": 0,
  "metadata": {
    "colab": {
      "provenance": []
    },
    "kernelspec": {
      "name": "python3",
      "display_name": "Python 3"
    },
    "language_info": {
      "name": "python"
    }
  },
  "cells": [
    {
      "cell_type": "markdown",
      "source": [
        "# **Tarea 4 Vigenère (Segunda Parte)**\n",
        "*Integrantes:*\n",
        "\n",
        "* Acosta Arzate Ruben - 317205776\n",
        "\n",
        "* Bernal Marquez Erick - 317042522\n",
        "\n",
        "* Deloya Andrade Ana Valeria - 317277582\n",
        "\n",
        "* Rivera Silva Marco Antonio - 318183583\n"
      ],
      "metadata": {
        "id": "JXF4Amar0rIy"
      }
    },
    {
      "cell_type": "markdown",
      "source": [
        "### **1. Texto**\n",
        "Escogemos un texto mayor a 250 carácteres, dicho texto es una parte de una canción de José Madero"
      ],
      "metadata": {
        "id": "7yeXx7BOpa6q"
      }
    },
    {
      "cell_type": "code",
      "source": [
        "texto = '¿Cuánto tiempo Tengo que esperar para decírtelo?Que no sea en una canciónNi yo, no encuentroAlguna otra manera, no tengo otra opciónPues, no es mío tu corazónYo lo séQue algún día volverásEntonces cambiaré de disciplinaDispensa mi sentirPues, te quiero aquíCerca de mi narizUn poemaUna carta, una llamada, una canciónEs todo lo que tengo yoTodas esasCosas que aún no me he atrevido a decirPiensan lo peor de míJuro queAlgún día te las diréDe frente, nuestros labios muy parejosY perplejo expresaréQue el que tú no estésMe rompe el peroné'\n",
        "len(texto)\n",
        "\n",
        "def limpiar(texto):\n",
        "  texto=texto.lower()\n",
        "  texto=texto.replace('?','')\n",
        "  texto=texto.replace('¿','')\n",
        "  texto=texto.replace('.','')\n",
        "  texto=texto.replace(',','')\n",
        "  texto=texto.replace(' ','')\n",
        "  texto=texto.replace('.','')\n",
        "  texto=texto.replace('á','a')\n",
        "  texto=texto.replace('é','e')\n",
        "  texto=texto.replace('í','i')\n",
        "  texto=texto.replace('ó','o')\n",
        "  texto=texto.replace('ú','u')\n",
        "  return texto\n",
        "\n",
        "texto_limpio=limpiar(texto)\n",
        "print(texto_limpio)"
      ],
      "metadata": {
        "id": "7taJTnDM0tuJ",
        "colab": {
          "base_uri": "https://localhost:8080/"
        },
        "outputId": "e63c0668-047c-4c72-e0c3-625ccb102fa0"
      },
      "execution_count": null,
      "outputs": [
        {
          "output_type": "stream",
          "name": "stdout",
          "text": [
            "cuantotiempotengoqueesperarparadecirteloquenoseaenunacancionniyonoencuentroalgunaotramaneranotengootraopcionpuesnoesmiotucorazonyolosequealgundiavolverasentoncescambiarededisciplinadispensamisentirpuestequieroaquicercademinarizunpoemaunacartaunallamadaunacancionestodoloquetengoyotodasesascosasqueaunnomeheatrevidoadecirpiensanlopeordemijuroquealgundiatelasdiredefrentenuestroslabiosmuyparejosyperplejoexpresarequeelquetunoestesmerompeelperone\n"
          ]
        }
      ]
    },
    {
      "cell_type": "markdown",
      "source": [
        "### **2. Cifrado**\n"
      ],
      "metadata": {
        "id": "7J7EuzrNt8YT"
      }
    },
    {
      "cell_type": "markdown",
      "source": [
        "#### **2.1 Clave**\n",
        "Primero escogemos una clave cuya longitud es mayor o igual a 6 pero menor a 12.\n",
        "Además, el número de alfabetos es menor a esta longitud pero mayor a 5."
      ],
      "metadata": {
        "id": "047DPAmhv9ry"
      }
    },
    {
      "cell_type": "code",
      "source": [
        "clave = 'papashelado'\n",
        "len(clave)"
      ],
      "metadata": {
        "colab": {
          "base_uri": "https://localhost:8080/"
        },
        "id": "mS6jZtkUupsX",
        "outputId": "c4f94f03-4512-4a4e-c408-1bd266b2dbfc"
      },
      "execution_count": null,
      "outputs": [
        {
          "output_type": "execute_result",
          "data": {
            "text/plain": [
              "11"
            ]
          },
          "metadata": {},
          "execution_count": 2
        }
      ]
    },
    {
      "cell_type": "markdown",
      "source": [
        "En este caso la longitud es de 11 caracteres.\n",
        "La cantidad de alfabetos es de 8, lo cual cumple con ser mayor a 5 pero menor a 11.\n",
        "\n",
        "\n",
        "#### **2.2 Partición**\n",
        "Posteriormente partimos el texto limpio en bloques de la longitud de la clave, en este caso es 11"
      ],
      "metadata": {
        "id": "AKHYl19AvD1r"
      }
    },
    {
      "cell_type": "code",
      "source": [
        "def partir(texto):\n",
        "  res=[]\n",
        "  for i in range(0, len(texto), len(clave)):\n",
        "    res.append(texto[i:i+len(clave)])\n",
        "  return res\n",
        "\n",
        "partido = partir(texto_limpio)\n",
        "partido"
      ],
      "metadata": {
        "colab": {
          "base_uri": "https://localhost:8080/"
        },
        "id": "2EpAHc_JvrQH",
        "outputId": "119b3502-1fdd-4110-c786-87cfc536014e"
      },
      "execution_count": null,
      "outputs": [
        {
          "output_type": "execute_result",
          "data": {
            "text/plain": [
              "['cuantotiemp',\n",
              " 'otengoquees',\n",
              " 'perarparade',\n",
              " 'cirteloquen',\n",
              " 'oseaenunaca',\n",
              " 'ncionniyono',\n",
              " 'encuentroal',\n",
              " 'gunaotraman',\n",
              " 'eranotengoo',\n",
              " 'traopcionpu',\n",
              " 'esnoesmiotu',\n",
              " 'corazonyolo',\n",
              " 'sequealgund',\n",
              " 'iavolverase',\n",
              " 'ntoncescamb',\n",
              " 'iarededisci',\n",
              " 'plinadispen',\n",
              " 'samisentirp',\n",
              " 'uestequiero',\n",
              " 'aquicercade',\n",
              " 'minarizunpo',\n",
              " 'emaunacarta',\n",
              " 'unallamadau',\n",
              " 'nacanciones',\n",
              " 'todoloquete',\n",
              " 'ngoyotodase',\n",
              " 'sascosasque',\n",
              " 'aunnomeheat',\n",
              " 'revidoadeci',\n",
              " 'rpiensanlop',\n",
              " 'eordemijuro',\n",
              " 'quealgundia',\n",
              " 'telasdirede',\n",
              " 'frentenuest',\n",
              " 'roslabiosmu',\n",
              " 'yparejosype',\n",
              " 'rplejoexpre',\n",
              " 'sarequeelqu',\n",
              " 'etunoestesm',\n",
              " 'erompeelper',\n",
              " 'one']"
            ]
          },
          "metadata": {},
          "execution_count": 3
        }
      ]
    },
    {
      "cell_type": "markdown",
      "source": [
        "#### **2.3 Tabla**\n",
        "Creamos una tabla de vignere para el cifrado"
      ],
      "metadata": {
        "id": "tdtTJ7TPx2Vq"
      }
    },
    {
      "cell_type": "code",
      "source": [
        "alfabeto = 'abcdefghijklmnopqrstuvwxyz'\n",
        "\n",
        "'''Hace un renglon de tabla de vignere, lo hace desplazando j posiciones'''\n",
        "def haz_renglon(alfabeto, j):\n",
        "  renglon = []\n",
        "  for i in range(0, len(alfabeto)):\n",
        "    renglon.append(alfabeto[(i+j)%26])\n",
        "  return renglon\n",
        "\n",
        "'''Crea la tabla de vigenere renglon por renglon'''\n",
        "def haz_tabla(alfabeto):\n",
        "  tabla = []\n",
        "  for i in range(0, len(alfabeto)):\n",
        "    renglon = haz_renglon(alfabeto, i)\n",
        "    tabla.append(renglon)\n",
        "  return tabla\n",
        "\n",
        "tabla = haz_tabla(alfabeto)\n",
        "\n",
        "#Una vez hecha la tabla el primer numero signifca el renglon en la clave\n",
        "#tabla[] = letra en la clave\n",
        "#\n",
        "#mientras que el segundo se refiere a la que queremos cifrar\n",
        "#tabla[i][] el segundo se refiere al caracter en el texto original\n",
        "\n",
        "def imprimte_bonito(lista):\n",
        "  for r in lista:\n",
        "    print(r)\n",
        "\n",
        "#na mas pa ver la tabla con mayor claridad\n",
        "imprimte_bonito(tabla)"
      ],
      "metadata": {
        "colab": {
          "base_uri": "https://localhost:8080/"
        },
        "id": "O3y16bKTx8Rl",
        "outputId": "da500849-4abc-4776-ce7b-e2823067dfe9"
      },
      "execution_count": null,
      "outputs": [
        {
          "output_type": "stream",
          "name": "stdout",
          "text": [
            "['a', 'b', 'c', 'd', 'e', 'f', 'g', 'h', 'i', 'j', 'k', 'l', 'm', 'n', 'o', 'p', 'q', 'r', 's', 't', 'u', 'v', 'w', 'x', 'y', 'z']\n",
            "['b', 'c', 'd', 'e', 'f', 'g', 'h', 'i', 'j', 'k', 'l', 'm', 'n', 'o', 'p', 'q', 'r', 's', 't', 'u', 'v', 'w', 'x', 'y', 'z', 'a']\n",
            "['c', 'd', 'e', 'f', 'g', 'h', 'i', 'j', 'k', 'l', 'm', 'n', 'o', 'p', 'q', 'r', 's', 't', 'u', 'v', 'w', 'x', 'y', 'z', 'a', 'b']\n",
            "['d', 'e', 'f', 'g', 'h', 'i', 'j', 'k', 'l', 'm', 'n', 'o', 'p', 'q', 'r', 's', 't', 'u', 'v', 'w', 'x', 'y', 'z', 'a', 'b', 'c']\n",
            "['e', 'f', 'g', 'h', 'i', 'j', 'k', 'l', 'm', 'n', 'o', 'p', 'q', 'r', 's', 't', 'u', 'v', 'w', 'x', 'y', 'z', 'a', 'b', 'c', 'd']\n",
            "['f', 'g', 'h', 'i', 'j', 'k', 'l', 'm', 'n', 'o', 'p', 'q', 'r', 's', 't', 'u', 'v', 'w', 'x', 'y', 'z', 'a', 'b', 'c', 'd', 'e']\n",
            "['g', 'h', 'i', 'j', 'k', 'l', 'm', 'n', 'o', 'p', 'q', 'r', 's', 't', 'u', 'v', 'w', 'x', 'y', 'z', 'a', 'b', 'c', 'd', 'e', 'f']\n",
            "['h', 'i', 'j', 'k', 'l', 'm', 'n', 'o', 'p', 'q', 'r', 's', 't', 'u', 'v', 'w', 'x', 'y', 'z', 'a', 'b', 'c', 'd', 'e', 'f', 'g']\n",
            "['i', 'j', 'k', 'l', 'm', 'n', 'o', 'p', 'q', 'r', 's', 't', 'u', 'v', 'w', 'x', 'y', 'z', 'a', 'b', 'c', 'd', 'e', 'f', 'g', 'h']\n",
            "['j', 'k', 'l', 'm', 'n', 'o', 'p', 'q', 'r', 's', 't', 'u', 'v', 'w', 'x', 'y', 'z', 'a', 'b', 'c', 'd', 'e', 'f', 'g', 'h', 'i']\n",
            "['k', 'l', 'm', 'n', 'o', 'p', 'q', 'r', 's', 't', 'u', 'v', 'w', 'x', 'y', 'z', 'a', 'b', 'c', 'd', 'e', 'f', 'g', 'h', 'i', 'j']\n",
            "['l', 'm', 'n', 'o', 'p', 'q', 'r', 's', 't', 'u', 'v', 'w', 'x', 'y', 'z', 'a', 'b', 'c', 'd', 'e', 'f', 'g', 'h', 'i', 'j', 'k']\n",
            "['m', 'n', 'o', 'p', 'q', 'r', 's', 't', 'u', 'v', 'w', 'x', 'y', 'z', 'a', 'b', 'c', 'd', 'e', 'f', 'g', 'h', 'i', 'j', 'k', 'l']\n",
            "['n', 'o', 'p', 'q', 'r', 's', 't', 'u', 'v', 'w', 'x', 'y', 'z', 'a', 'b', 'c', 'd', 'e', 'f', 'g', 'h', 'i', 'j', 'k', 'l', 'm']\n",
            "['o', 'p', 'q', 'r', 's', 't', 'u', 'v', 'w', 'x', 'y', 'z', 'a', 'b', 'c', 'd', 'e', 'f', 'g', 'h', 'i', 'j', 'k', 'l', 'm', 'n']\n",
            "['p', 'q', 'r', 's', 't', 'u', 'v', 'w', 'x', 'y', 'z', 'a', 'b', 'c', 'd', 'e', 'f', 'g', 'h', 'i', 'j', 'k', 'l', 'm', 'n', 'o']\n",
            "['q', 'r', 's', 't', 'u', 'v', 'w', 'x', 'y', 'z', 'a', 'b', 'c', 'd', 'e', 'f', 'g', 'h', 'i', 'j', 'k', 'l', 'm', 'n', 'o', 'p']\n",
            "['r', 's', 't', 'u', 'v', 'w', 'x', 'y', 'z', 'a', 'b', 'c', 'd', 'e', 'f', 'g', 'h', 'i', 'j', 'k', 'l', 'm', 'n', 'o', 'p', 'q']\n",
            "['s', 't', 'u', 'v', 'w', 'x', 'y', 'z', 'a', 'b', 'c', 'd', 'e', 'f', 'g', 'h', 'i', 'j', 'k', 'l', 'm', 'n', 'o', 'p', 'q', 'r']\n",
            "['t', 'u', 'v', 'w', 'x', 'y', 'z', 'a', 'b', 'c', 'd', 'e', 'f', 'g', 'h', 'i', 'j', 'k', 'l', 'm', 'n', 'o', 'p', 'q', 'r', 's']\n",
            "['u', 'v', 'w', 'x', 'y', 'z', 'a', 'b', 'c', 'd', 'e', 'f', 'g', 'h', 'i', 'j', 'k', 'l', 'm', 'n', 'o', 'p', 'q', 'r', 's', 't']\n",
            "['v', 'w', 'x', 'y', 'z', 'a', 'b', 'c', 'd', 'e', 'f', 'g', 'h', 'i', 'j', 'k', 'l', 'm', 'n', 'o', 'p', 'q', 'r', 's', 't', 'u']\n",
            "['w', 'x', 'y', 'z', 'a', 'b', 'c', 'd', 'e', 'f', 'g', 'h', 'i', 'j', 'k', 'l', 'm', 'n', 'o', 'p', 'q', 'r', 's', 't', 'u', 'v']\n",
            "['x', 'y', 'z', 'a', 'b', 'c', 'd', 'e', 'f', 'g', 'h', 'i', 'j', 'k', 'l', 'm', 'n', 'o', 'p', 'q', 'r', 's', 't', 'u', 'v', 'w']\n",
            "['y', 'z', 'a', 'b', 'c', 'd', 'e', 'f', 'g', 'h', 'i', 'j', 'k', 'l', 'm', 'n', 'o', 'p', 'q', 'r', 's', 't', 'u', 'v', 'w', 'x']\n",
            "['z', 'a', 'b', 'c', 'd', 'e', 'f', 'g', 'h', 'i', 'j', 'k', 'l', 'm', 'n', 'o', 'p', 'q', 'r', 's', 't', 'u', 'v', 'w', 'x', 'y']\n"
          ]
        }
      ]
    },
    {
      "cell_type": "markdown",
      "source": [
        "#### **2.4 Cifrado con tabla**\n",
        "\n",
        "Ahora sí, ya podemos reemplazar las letras de nuestro texto con ayuda de la tabla"
      ],
      "metadata": {
        "id": "NZNdDe-VEd58"
      }
    },
    {
      "cell_type": "code",
      "source": [
        "'''diccionario auxiliar para saber el numero que le corresponde a la letra'''\n",
        "letras={ }\n",
        "for i, carac in enumerate(alfabeto):\n",
        "  letras[carac]=i\n",
        "\n",
        "'''Reemplaza una particion con ayuda de la clave'''\n",
        "def cifrar_bloque(bloque, clave):\n",
        "  cifrado=''\n",
        "  menor= min(len(bloque), len(clave))\n",
        "  for i in range(menor):\n",
        "    #obtenemos los indices a reemplazar\n",
        "    letra_limpia=letras[bloque[i]]\n",
        "    letra_cifrada=letras[clave[i]]\n",
        "    #reemplazamos de acuerdo al indice\n",
        "    cifrado+=tabla[letra_cifrada][letra_limpia]\n",
        "  return cifrado\n",
        "\n",
        "#prueba con los dos primeros bloques\n",
        "c1 = cifrar_bloque('cuantotiemp', 'papash')\n",
        "c2 = cifrar_bloque('otengoquees', 'papashelado')\n",
        "\n",
        "#print(c1,c2)\n",
        "\n",
        "'''reemplaza todos los bloques de texto con la clave dada'''\n",
        "def vignere(texto, clave):\n",
        "  #lo limpiamos\n",
        "  texto_limpio=limpiar(texto)\n",
        "  #lo partimos\n",
        "  partido = partir(texto_limpio)\n",
        "  cifrado=[]\n",
        "  for renglon in partido:\n",
        "    #ciframos cada bloque\n",
        "    cifrado.append(cifrar_bloque(renglon, clave))\n",
        "  return cifrado\n",
        "\n",
        "cifrado=vignere(texto, clave)"
      ],
      "metadata": {
        "id": "CHGMFQmaEt5H"
      },
      "execution_count": null,
      "outputs": []
    },
    {
      "cell_type": "markdown",
      "source": [
        "Comparamos los bloques del texto sin cifrar y cifrado"
      ],
      "metadata": {
        "id": "22-ZmBWaLy9W"
      }
    },
    {
      "cell_type": "code",
      "source": [
        "print(partido)"
      ],
      "metadata": {
        "colab": {
          "base_uri": "https://localhost:8080/"
        },
        "id": "GwNCbNA6L5kR",
        "outputId": "a1ba4e03-d853-4aaf-d87b-811099183313"
      },
      "execution_count": null,
      "outputs": [
        {
          "output_type": "stream",
          "name": "stdout",
          "text": [
            "['cuantotiemp', 'otengoquees', 'perarparade', 'cirteloquen', 'oseaenunaca', 'ncionniyono', 'encuentroal', 'gunaotraman', 'eranotengoo', 'traopcionpu', 'esnoesmiotu', 'corazonyolo', 'sequealgund', 'iavolverase', 'ntoncescamb', 'iarededisci', 'plinadispen', 'samisentirp', 'uestequiero', 'aquicercade', 'minarizunpo', 'emaunacarta', 'unallamadau', 'nacanciones', 'todoloquete', 'ngoyotodase', 'sascosasque', 'aunnomeheat', 'revidoadeci', 'rpiensanlop', 'eordemijuro', 'quealgundia', 'telasdirede', 'frentenuest', 'roslabiosmu', 'yparejosype', 'rplejoexpre', 'sarequeelqu', 'etunoestesm', 'erompeelper', 'one']\n"
          ]
        }
      ]
    },
    {
      "cell_type": "code",
      "source": [
        "print(cifrado)"
      ],
      "metadata": {
        "colab": {
          "base_uri": "https://localhost:8080/"
        },
        "id": "gtGdTeP4MB3R",
        "outputId": "3874dd7d-648c-4fbf-db6b-de67a9072284"
      },
      "execution_count": null,
      "outputs": [
        {
          "output_type": "stream",
          "name": "stdout",
          "text": [
            "['rupnlvxtepd', 'dttnyvufehg', 'eegajwecags', 'rigtwssbuhb', 'dstawuyyafo', 'ccxofumjoqc', 'tnruwuxcodz', 'vucagavlmdb', 'trpngaiygrc', 'irpohjmznsi', 'tscowzqtowi', 'rogarvrjooc', 'hefuwhpruqr', 'xakodcicavs', 'ctdnulwnapp', 'xagevlhtsfw', 'elxnskmdphb', 'habiklreiud', 'jehtwxyteuc', 'pqjiulvnags', 'bicajpdfnsc', 'tmpufhglrwo', 'jnpldhqlddi', 'carafjmznhg', 'iosodvufews', 'cgdygasoavs', 'hahcgzedqxs', 'pucngtisedh', 'gekivveoefw', 'gpxefzeylrd', 'togdwtmuuuc', 'futadnyydlo', 'ieaakkmcegs', 'urtnllrfevh', 'gohlsimzspi', 'npprwqsdyss', 'gpaebviipus', 'hageibiplti', 'ttjnglweeva', 'trdmhliwphf', 'dnt']\n"
          ]
        }
      ]
    },
    {
      "cell_type": "markdown",
      "source": [
        "Para obtener el texto cifrado sencillamente concatenamos todos los bloques cifrados"
      ],
      "metadata": {
        "id": "_V5eiyO0Mrod"
      }
    },
    {
      "cell_type": "code",
      "source": [
        "cifrado_total = ''.join(cifrado)\n",
        "cifrado_total"
      ],
      "metadata": {
        "colab": {
          "base_uri": "https://localhost:8080/",
          "height": 87
        },
        "id": "tMpxsgqtMwfo",
        "outputId": "2774c9e9-3822-456b-b99b-d4b4f89d7a38"
      },
      "execution_count": null,
      "outputs": [
        {
          "output_type": "execute_result",
          "data": {
            "text/plain": [
              "'rupnlvxtepddttnyvufehgeegajwecagsrigtwssbuhbdstawuyyafoccxofumjoqctnruwuxcodzvucagavlmdbtrpngaiygrcirpohjmznsitscowzqtowirogarvrjoochefuwhpruqrxakodcicavsctdnulwnappxagevlhtsfwelxnskmdphbhabiklreiudjehtwxyteucpqjiulvnagsbicajpdfnsctmpufhglrwojnpldhqlddicarafjmznhgiosodvufewscgdygasoavshahcgzedqxspucngtisedhgekivveoefwgpxefzeylrdtogdwtmuuucfutadnyydloieaakkmcegsurtnllrfevhgohlsimzspinpprwqsdyssgpaebviipushageibipltittjnglweevatrdmhliwphfdnt'"
            ],
            "application/vnd.google.colaboratory.intrinsic+json": {
              "type": "string"
            }
          },
          "metadata": {},
          "execution_count": 8
        }
      ]
    },
    {
      "cell_type": "markdown",
      "source": [
        "### **3. Pruebas de Kasiski y Friedman**"
      ],
      "metadata": {
        "id": "Sm0oYPqINXEb"
      }
    },
    {
      "cell_type": "markdown",
      "source": [
        "#### **3.1 Prueba de Kasiski**\n",
        "\n",
        "Exploraremos la prueba de Kasiski.\n",
        "\n",
        "Esta prueba se utiliza cuando queremos obtener la longitud de una llave utilizada en un cifrado, en este caso queremos saber la longitud para el cifrado anteriormente hecho, cifrado de Vigenere. La prueba se basa en la idea de que el texto original contendrá palabras o secuencias de caracteres repetidas y en algún momento el cifrado de estas letras se repetirá.\n",
        "\n",
        "Entonces lo que hacemos es medir cada cuántos carácteres se repetieron y a partir de ahí obtener una aproximación de la longitud de la llave, pues como se repiten cada _c_ cantidad de carácteres entonces _c_ es la longitud de llave o algún múltiplo, siendo así una muy buena aproximación.\n",
        "\n",
        "Crearemos método auxilares para la descomposición de un número en factores primos."
      ],
      "metadata": {
        "id": "n4Xj43pVNgeS"
      }
    },
    {
      "cell_type": "code",
      "source": [
        "''''Calcula todos los divisores de un numero'''\n",
        "def divisores(numero):\n",
        "  divisores=[]\n",
        "  for i in range(1,numero+1):\n",
        "    if numero%i==0:\n",
        "      divisores.append(i)\n",
        "  return divisores\n",
        "\n",
        "'''Nos dice si un numero es primo o no'''\n",
        "def es_primo(numero):\n",
        "  divs=divisores(numero)\n",
        "  if numero==1:\n",
        "    return False\n",
        "  return (divs[0]==1) and (divs[1]==numero)\n",
        "\n",
        "'''Funcion auxiliar que nos regresa todos los numeros primos desde 1 hasta el\n",
        "   numero que tenemos de parametro'''\n",
        "def todos_primos(numero):\n",
        "  lista_primos=[]\n",
        "  for i in range(1,numero+1):\n",
        "    if es_primo(i):\n",
        "      lista_primos.append(i)\n",
        "  return lista_primos\n",
        "\n",
        "'''Funcion auxiliar que nos regresa todos los primos que dividen un numero\n",
        "   Utilizando el metodo auxiliar todos_primos'''\n",
        "def factores_primos(numero):\n",
        "  fac_primos=[]\n",
        "  primos=todos_primos(numero)\n",
        "  for p in primos:\n",
        "    if numero%p==0:\n",
        "      fac_primos.append(p)\n",
        "  return fac_primos\n",
        "\n",
        "print(todos_primos(31))\n",
        "print(factores_primos(50))\n",
        "print(factores_primos(8))\n",
        "\n",
        "'''Nos regresa los factores primos de un numero'''\n",
        "def obten_factores_primos(numero):\n",
        "  factores_primos=[]\n",
        "  primos=todos_primos(numero)\n",
        "  for p in primos:\n",
        "    while (numero%p)==0:\n",
        "      numero/=p\n",
        "      factores_primos.append(p)\n",
        "  return factores_primos\n",
        "\n",
        "print(obten_factores_primos(8))"
      ],
      "metadata": {
        "id": "UNWx3q5JTs4y",
        "colab": {
          "base_uri": "https://localhost:8080/"
        },
        "outputId": "352edd0b-4e21-43cd-b54c-941b5e6f5967"
      },
      "execution_count": null,
      "outputs": [
        {
          "output_type": "stream",
          "name": "stdout",
          "text": [
            "[2, 3, 5, 7, 11, 13, 17, 19, 23, 29, 31]\n",
            "[2, 5]\n",
            "[2]\n",
            "[2, 2, 2]\n"
          ]
        }
      ]
    },
    {
      "cell_type": "markdown",
      "source": [
        "Para realizar la prueba de Kasiski primero obtenemos las palabras repetidas, ocuparemos el mismo codigo que utilizamos para la entrega de la tarea pasada."
      ],
      "metadata": {
        "id": "8rOMU52OTbJ-"
      }
    },
    {
      "cell_type": "code",
      "source": [
        "'''Funcion que nos regresa las cadenas repetidas de un texto'''\n",
        "def repetidas(texto):\n",
        "  sec_repetidas=[]\n",
        "  longitud_i= 2\n",
        "  while longitud_i<len(texto):\n",
        "    for inicio in range(len(texto)-longitud_i+1):\n",
        "      secuencia=texto[inicio:inicio+longitud_i]\n",
        "      if secuencia in texto[inicio+longitud_i:]:\n",
        "         sec_repetidas.append(secuencia)\n",
        "    longitud_i+=1\n",
        "  sec_rep=set(sec_repetidas)\n",
        "  return sec_rep\n",
        "\n",
        "'''Funcion auxiliar que nos regresa los indices en que una cadena se repite\n",
        "   en el texto'''\n",
        "def aux_indices_repetidas(texto, repetida):\n",
        "  indices=[]\n",
        "  #los indices de una sola cadena que se repite en el texto\n",
        "  indice=texto.find(repetida)\n",
        "  while indice !=-1:\n",
        "    indices.append(indice)\n",
        "    indice=texto.find(repetida, indice+len(repetida))\n",
        "  return indices\n",
        "\n",
        "'''Regresa una lista de tuplas de todas las cadenas que se\n",
        "   repiten en un texto y los indices en que estas se repiten. Por ejemplo\n",
        "   [('as', [10,40,45]), ('rfd', [3,27,49]), ('ss',[1,2])]'''\n",
        "def indices_repetidas(texto,lista_repetidas):\n",
        "  indices_repetidas=[]\n",
        "  for r in lista_repetidas:\n",
        "    l=aux_indices_repetidas(texto,r)\n",
        "    t=(r,l)\n",
        "    indices_repetidas.append(t)\n",
        "  return indices_repetidas\n",
        "\n",
        "'''Funcion auxiliar que si le mandas el resultado del funcion indices_repetidas\n",
        "   nos regresa unicamente los indices en que cada cadena se repite'''\n",
        "def obten_lista_indices(lista_tuplas):\n",
        "  l=[]\n",
        "  for t in lista_tuplas:\n",
        "    l.append(t[1])\n",
        "  return l\n",
        "\n",
        "'''Funcion que si le das una lista de listas de indices te regresa una lista de\n",
        "   listas con las distancias entre los indices'''\n",
        "def distancias(lista_indices):\n",
        "  distancias=[]\n",
        "  dis_por_indice=[]\n",
        "  for i in lista_indices:\n",
        "    for j in range(len(i)-1):\n",
        "      dis=i[j+1]-i[j]\n",
        "      dis_por_indice.append(dis)\n",
        "    distancias.append(dis_por_indice)\n",
        "    dis_por_indice=[]\n",
        "  return distancias\n",
        "\n",
        "'''Recibe una lista de distancias y calcula los factores primos de cada una'''\n",
        "def factores_primos_total(lista_distancias):\n",
        "  fact_primos=[]\n",
        "  fact_primos_total=[]\n",
        "  for i in lista_distancias:\n",
        "    for j in i:\n",
        "      fact_primos=factores_primos(j)\n",
        "    fact_primos_total.append(fact_primos)\n",
        "  return fact_primos_total\n",
        "\n",
        "'''Funcion que si le mandas una lista regresa una lista con los elementos pero\n",
        "   sin repetidos'''\n",
        "def elimina_repetidos(lista):\n",
        "  lista_sin_reps=[]\n",
        "  for i in lista:\n",
        "    for j in lista:\n",
        "      if i==j:\n",
        "        if not(i in lista_sin_reps):\n",
        "           lista_sin_reps.append(i)\n",
        "  return lista_sin_reps\n",
        "\n",
        "'''Calcula la prueba de kasiski y regresa las 3 factores primos que mas se repitan\n",
        "   Ademas imprimimos un arreglo con los factores primos de las distancias\n",
        "   Y otro indiquen las veces que se repitió cada uno\n",
        "  '''\n",
        "def prueba_kasiski(texto):\n",
        "  #Primero calculamos las palabras que se repetian en el texto\n",
        "  rep=repetidas(texto)\n",
        "  #Despues calculamos los indices en que cada palabra se repetia\n",
        "  indices_y_palabras=indices_repetidas(texto,rep)\n",
        "  #La variable indice contiene una lista de listas de indices donde cada\n",
        "  #sublista representa una palabra repetida y en esta estan los indices de esta\n",
        "  indices=obten_lista_indices(indices_y_palabras)\n",
        "  #lista de listas de distancias donde cada sublista igual representa una\n",
        "  #palabra repetida y en esta estan las distancias de cada palabra\n",
        "  lista_distancias=distancias(indices)\n",
        "  #lista de listas que calcula los factores primos de cada distancia donde\n",
        "  #cada sublista representa una distancia y en ella estan los factores primos\n",
        "  lista_lista_factores=factores_primos_total(lista_distancias)\n",
        "  lista_factores=[]\n",
        "\n",
        "  for l in lista_lista_factores:\n",
        "    lista_factores+=l\n",
        "\n",
        "  lista_factores_sin_reps=elimina_repetidos(lista_factores)\n",
        "  cuenta_reps=[]\n",
        "\n",
        "  for i in lista_factores_sin_reps:\n",
        "    contador=0\n",
        "    for j in lista_factores:\n",
        "      if i==j:\n",
        "        contador+=1\n",
        "    cuenta_reps.append(contador)\n",
        "\n",
        "  #obtenemos el indice del factor primo que mas se repite\n",
        "  indice=cuenta_reps.index(max(cuenta_reps))\n",
        "  #factor primo que mas se repite\n",
        "  primer=lista_factores_sin_reps[indice]\n",
        "\n",
        "  #imprimimos la lista con todos los factores primos de las distancias\n",
        "  print(lista_factores_sin_reps)\n",
        "  #imprimimos que tanto se repite cada uno donde por ejemplo\n",
        "  #si dice en el primer indice dice 60 y en la lista anterior el 2 esta en\n",
        "  #el primer indice entonces el 2 se repite 60 veces\n",
        "  print(cuenta_reps)\n",
        "\n",
        "  del cuenta_reps[indice]\n",
        "  del lista_factores_sin_reps[indice]\n",
        "  indice=cuenta_reps.index(max(cuenta_reps))\n",
        "  #segundo factor primo mas repetido\n",
        "  segundo=lista_factores_sin_reps[indice]\n",
        "\n",
        "  del cuenta_reps[indice]\n",
        "  del lista_factores_sin_reps[indice]\n",
        "  indice=cuenta_reps.index(max(cuenta_reps))\n",
        "  #tercer factor primo mas repetido\n",
        "  tercero=lista_factores_sin_reps[indice]\n",
        "\n",
        "  mas_reps=[]\n",
        "  mas_reps.append(primer)\n",
        "  mas_reps.append(segundo)\n",
        "  mas_reps.append(tercero)\n",
        "\n",
        "  return mas_reps\n",
        "\n",
        "reps=repetidas(cifrado_total)\n",
        "dis=distancias(obten_lista_indices(indices_repetidas(cifrado_total,repetidas(cifrado_total))))\n",
        "print(factores_primos_total(dis))\n",
        "print(prueba_kasiski(cifrado_total))"
      ],
      "metadata": {
        "colab": {
          "base_uri": "https://localhost:8080/"
        },
        "id": "NzcTSNEVcQbH",
        "outputId": "c49d40c6-6513-4086-a924-c05fb6b38805"
      },
      "execution_count": null,
      "outputs": [
        {
          "output_type": "stream",
          "name": "stdout",
          "text": [
            "[[3, 23], [5, 11], [3, 5], [2, 3, 5, 7], [3, 83], [7, 41], [2, 5], [31], [2, 31], [5, 11], [29], [97], [3, 61], [2, 7], [149], [2, 3, 11], [2, 3, 5], [2, 7], [2, 3], [211], [2, 11], [13, 31], [2, 3, 11], [2, 7, 11], [2, 3], [2, 3, 5], [2, 3, 5], [107], [5, 19], [191], [41], [11, 17], [3, 11], [2, 3, 5], [11, 23], [3, 19], [2, 3, 11], [11], [11, 19], [3, 7, 13], [11], [2, 3, 17], [2, 3, 11], [2, 3, 5], [2, 11], [337], [2, 19], [2, 3], [2, 7, 11], [11], [2, 3, 13], [2, 3, 11], [11, 13], [2, 5, 13], [2, 7, 29], [11, 13], [11, 23], [2, 3, 11], [2], [3, 11], [2, 7, 19], [5], [2, 3, 17], [2, 89], [2, 7, 11], [2, 59], [71], [2, 89], [2, 3], [5, 11], [2, 7, 11], [3, 83], [5, 23], [2, 3, 53], [17], [223], [2, 11], [2, 7, 11], [2, 5], [2, 11], [3, 7], [3, 5, 11], [2, 3, 19], [3, 5], [2, 3, 11], [2, 5], [11], [11, 23], [2, 3], [11, 23], [3, 11], [2, 3, 13], [3, 11], [3, 71], [2, 3], [31], [2, 43], [3, 13], [2, 7, 11], [13], [2, 43], [11], [101], [7, 11], [2, 3, 11], [5, 37], [2, 19], [2, 13], [2, 71], [2, 5, 17], [7], [2, 11], [11, 31], [2, 3, 11], [11], [2, 19], [3, 11], [2, 83], [41], [13, 23], [11, 13], [31], [11]]\n",
            "[3, 23, 5, 11, 2, 7, 83, 41, 31, 29, 97, 61, 149, 211, 13, 107, 19, 191, 17, 337, 89, 59, 71, 53, 223, 43, 101, 37]\n",
            "[44, 7, 21, 47, 60, 16, 3, 3, 6, 2, 1, 1, 1, 1, 12, 1, 8, 1, 5, 1, 2, 1, 3, 1, 1, 2, 1, 1]\n",
            "[2, 11, 3]\n"
          ]
        }
      ]
    },
    {
      "cell_type": "markdown",
      "source": [
        "La primer salida que obtenemos es la descomposición de las distancias en factores primos, estas distancias corresponden a la diferencia de índices de secuencias de caracteres repetidos.\n",
        "\n",
        "El segundo y tercer arreglo corresponden a la frecuencia de cada factor primo, donde el primero son los factores primos y el segundo es la cantidad de veces que se repite, respectivamente.\n",
        "\n",
        "La última salida muestra los 3 numeros primos que más se repiten, siendo el 2 el que más se repite, seguido del 11 y por último el 3.\n",
        "El úumero 2 es muy pequeño como para ser una llave, así que nos quedamos con que la longitud de la llave es de 11 caracteres."
      ],
      "metadata": {
        "id": "46XpyDPLFoJP"
      }
    },
    {
      "cell_type": "markdown",
      "source": [
        "#### **3.2 Prueba de Friedman**\n",
        "\n",
        "La prueba de Friedman se utiliza para medir el número de alfabetos de la llave, basándose en la idea de qué tan probable es, que si tomamos dos letras al azar del texto, que estas dos letras sean las mismas.\n",
        "\n",
        "Para ello vamos a apoyarnos de la tarea pasada trayendo de vuelta la siguiente fórmula:\n",
        "\n",
        "$$r \\approx \\frac{(0.036)N}{IC(T)(N-1)-(0.038)N + 0.0744}$$\n",
        "\n",
        "Donde:\n",
        "* $r$ - el número de alfabetos\n",
        "* $IC(T)$ - el índice de coincidencias del texto\n",
        "* $N$ - la longitud del texto\n",
        "\n",
        "--------------------------------------------------------------------------\n",
        "Retomamos también de la tarea pasada la implementación del $IC(T)$, para calcularlo se hizo uso de la siguiente fórmula:\n",
        "\n",
        "$$IC(T) = \\sum_{i=1}^{26} \\frac{(F_x)(F_x-1)}{N(N-1)}$$\n",
        "\n",
        "Donde:\n",
        "* $F_x$ - la frecuencia del caracter\n",
        "* $N$ - la longitd del texto."
      ],
      "metadata": {
        "id": "Rfge6m4gNmm6"
      }
    },
    {
      "cell_type": "code",
      "source": [
        "texto_prueba_limpio='sifuiyoresponsabledequetodoacabonoteagarredehumoryasielmundoperdiosucolorcuantosdiasvancuantosmasmefaltarandespertardelcomacambiarelcanalnovolveracantarjamassifuiyoelquedeestamalaobrafueautorcambiecaminochequeelrelojperominortealfinalseperdiotienenqueacabarestascancionesmiserascabezaarribaysentirmecapaznovolveracantarjamastengomiedodepedirperdontengomiedodehacerestopeortengomuchomiedodeolvidarteperopocoapocoolvidotuvoztengomiedoderezarleadiostengomiedodetenermasvalorparasersincerotambientengomiedodequepocoapocoolvidetuvozsequeestamoslejosmasnuncapudedeciradioscuantosdiasvancuantosmasmefaltaranaceptarmiderrotayyavolverteacantarjamastengomiedodepedirperdontengomiedodehacerestopeortengomuchomiedodeolvidarteperopocoapocoolvidotuvoztengomiedodetenerlarazontengomiedodehastadarteunaflorhazalgoalrespectoaunqueseaincorrectoporquepocoapocoolvidotuvozsequeeslodemenosmaslounicoquetengoestuvoz'\n",
        "\n",
        "alfabeto_lista=['a','b','c','d','e','f','g','h','i','j','k','l','m','n','o','p','q','r','s','t','u','v','w','x','y','z']\n",
        "\n",
        "'''Auxiliar frecuencia que regresa cuantas veces se repite una letra en el texto'''\n",
        "def frecuencia(letra,texto):\n",
        "  contador=0\n",
        "  for caracter in texto:\n",
        "    if caracter==letra:\n",
        "       contador+=1\n",
        "  return contador\n",
        "\n",
        "'''Auxiliar que cuenta la frecuencia de las letras y lo guarda en una lista'''\n",
        "def frecuencia_caracteres(texto):\n",
        "  frecuencias=[]\n",
        "  for c in alfabeto_lista:\n",
        "    veces = frecuencia(c, texto)\n",
        "    t = (c, veces)\n",
        "    frecuencias.append(t)\n",
        "  return frecuencias\n",
        "\n",
        "'''Auxiliar que recupera y guarda solo la frecuencia de las letras'''\n",
        "def obten_lista_frecuencias(lista_tuplas):\n",
        "  l = []\n",
        "  for t in lista_tuplas:\n",
        "    l.append(t[1])\n",
        "  return l\n",
        "\n",
        "'''Calcula el indice de coincidencias de un texto'''\n",
        "def indice_coincidencias(texto):\n",
        "  frecuencias = obten_lista_frecuencias(frecuencia_caracteres(texto))\n",
        "  ic = 0\n",
        "  for i in range(26):\n",
        "    #le sacamos la frecuencia a cada una de las letras y las sumamos tantas veces como longitud de nuestro alfabeto\n",
        "    #en este caso 26\n",
        "    f = frecuencias[i]\n",
        "    longitud_N = len(texto)\n",
        "    ic+=(frecuencias[i]*(frecuencias[i]-1))/((longitud_N)*(longitud_N-1))\n",
        "  return ic\n",
        "\n",
        "indice_coincidencias(cifrado_total)\n",
        "#indice_coincidencias(texto_prueba_limpio)\n"
      ],
      "metadata": {
        "id": "HQeR2VlSS61L",
        "colab": {
          "base_uri": "https://localhost:8080/"
        },
        "outputId": "94903045-e67b-44eb-9ed5-574fd714ff78"
      },
      "execution_count": null,
      "outputs": [
        {
          "output_type": "execute_result",
          "data": {
            "text/plain": [
              "0.041939470700591404"
            ]
          },
          "metadata": {},
          "execution_count": 11
        }
      ]
    },
    {
      "cell_type": "markdown",
      "source": [
        "Finalmente aplicamos la fórmula para poder calcular $r$"
      ],
      "metadata": {
        "id": "XY4kc3HuSwcK"
      }
    },
    {
      "cell_type": "code",
      "source": [
        "'''Devuelve el numero de alfabetos de un texto cifrado con Vigenere'''\n",
        "def numero_alfabetos(texto):\n",
        "  #solo seguimos la formula xd\n",
        "  longitud_N = len(texto)\n",
        "  ic=indice_coincidencias(texto)\n",
        "  alfabetos=(0.036*longitud_N) / ( (ic*(longitud_N-1)) - (0.038*longitud_N) + 0.0744)\n",
        "  #print(0.036*longitud_N)\n",
        "  #print(ic*(longitud_N-1))\n",
        "  #print(0.038*longitud_N)\n",
        "  #print((0.036*longitud_N), ( ic*(longitud_N-1), 0.038*longitud_N, 0.0744))\n",
        "  #print((0.036*longitud_N), ( (ic*(longitud_N-1)) - (0.038*longitud_N) + 0.0744))\n",
        "  return alfabetos\n",
        "r = numero_alfabetos(cifrado_total)\n",
        "r"
      ],
      "metadata": {
        "id": "RVIIHdLmViBn",
        "colab": {
          "base_uri": "https://localhost:8080/"
        },
        "outputId": "f5afb985-85a8-4ac9-dc6e-e2d35133242d"
      },
      "execution_count": null,
      "outputs": [
        {
          "output_type": "execute_result",
          "data": {
            "text/plain": [
              "8.971414755506418"
            ]
          },
          "metadata": {},
          "execution_count": 12
        }
      ]
    },
    {
      "cell_type": "markdown",
      "source": [
        "La prueba de Friedman nos dice que el número de alfabetos es alrededor de 8.9 que podríamos redondear a 9, a pesar de que nosotros sabemos que el número de alfabetos. Recordemos que esto es solo una aproximación y a pesar de que esté ''equivocado'' nos ayudó a reducir considerablemente el número de alfabetos que puede haber en un rango, por ejemplo, de 8 al 10. [8,9,10]. Entonces no quedaría mas que hacer más pruebas."
      ],
      "metadata": {
        "id": "0WN2LscxG33v"
      }
    },
    {
      "cell_type": "markdown",
      "source": [
        "### **4. ChatGPT**\n",
        "\n"
      ],
      "metadata": {
        "id": "UMcGqRcBe6Pf"
      }
    },
    {
      "cell_type": "markdown",
      "source": [
        "Primero le dijimos a chatgpt que descifrara el siguiente texto:\n",
        "\n",
        "> rupnlvxtepddttnyvufehgeegajwecagsrigtwssbuhbdstawuyyafoccxofumjoqctnruwuxcodzvucagavlmdbtrpngaiygrcirpohjmznsitscowzqtowirogarvrjoochefuwhpruqrxakodcicavsctdnulwnappxagevlhtsfwelxnskmdphbhabiklreiudjehtwxyteucpqjiulvnagsbicajpdfnsctmpufhglrwojnpldhqlddicarafjmznhgiosodvufewscgdygasoavshahcgzedqxspucngtisedhgekivveoefwgpxefzeylrdt\n",
        "ogdwtmuuucfutadnyydloieaakkmcegsurtnllrfevhgohlsimzspinpprwqsdyssgpaebviipushageibipltittjnglweevatrdmhliwphfdnt\n",
        "\n",
        "El cual corresponde al texto cifrado, sin embargo su respuesta fue que parecía una serie de letras al azar sin ningún patrón aparente. Lo cual nos pareció interesante porque a pesar de escribir explicitamente la palabra _descifra_, chatgpt cree que se trata de un texto al azar.\n",
        "\n",
        "ChatGPT:\n",
        "\n",
        "> El texto que proporcionaste parece ser una serie de letras y caracteres sin un patrón aparente. No parece tener un significado claro y no puedo descifrarlo como un mensaje coherente en su forma actual.\n",
        "\n",
        "Lo siguiente fue escribirle, aun más explicitamente, que se trataba de un texto cifrado pero que aun así para descifrarlo necesitaba tener la información de qué tipo de cifrado fue: César, Vignere, RSA, etc.\n",
        "\n",
        "ChatGPT:\n",
        "\n",
        "> Entiendo que se trata de un texto cifrado. Sin embargo, para descifrar un texto cifrado, necesito conocer el método de cifrado o tener información adicional que me permita realizar el proceso de descifrado. Hay muchos métodos de cifrado diferentes, como el cifrado César, el cifrado Vigenère, el cifrado RSA y otros.\n",
        "\n",
        "Escribimos que se trata de un cifrado de Vigenere pero aun así nos pedía la clave para descifrarlo, que sin la clave era extremadamente difícil hacer el descifrado.\n",
        "\n",
        "ChatGPT:\n",
        "\n",
        "> Entendido, si el texto está cifrado mediante el cifrado Vigenère, necesitamos conocer la clave para descifrarlo correctamente. Sin la clave, no es posible realizar un descifrado preciso. Sin conocer la clave, es extremadamente difícil, si no imposible, descifrar el texto de manera precisa.\n",
        "\n",
        "No dimos la clave pero le proporcionamos las pistas de las pruebas anteriormente hechas. Que la longitud de la clave es de 11 caracteres y los alfabetos posibles son 8.\n",
        "\n",
        "A lo cual intentó intentó partir por bloques pero ninguno de sus intentos fue exitoso.\n",
        "\n",
        "> Gracias por proporcionar información adicional. Con una longitud de clave de 11 y 8 alfabetos según las pruebas de Kasiski y Friedman, respectivamente, tenemos información importante para intentar descifrar el texto cifrado con el cifrado Vigenère.\n",
        "\n",
        "> Dado que conocemos la longitud de la clave, podemos realizar un ataque de fuerza bruta utilizando diversas claves de 11 caracteres para descifrar el texto. Sin embargo, debido a la cantidad de combinaciones posibles, esto puede ser un proceso largo y requerirá paciencia.\n",
        "\n",
        "> Grupo 1: rupnlvxtepdd\n",
        "Clave 1: xxxxxxxxx (longitud de la clave)\n",
        "Texto descifrado 1: rupnlvxtepdd\n",
        "\n",
        "> Grupo 2: ttnyvufehgee\n",
        "Clave 2: xxxxxxxxx\n",
        "Texto descifrado 2: ttnyvufehgee\n",
        "\n",
        "> Grupo 3: gajwecagsrig\n",
        "Clave 3: xxxxxxxxx\n",
        "Texto descifrado 3: gajwecagsrig\n",
        "\n",
        "Como podemos notar aun dando pistas como las pruebas de Kasiski y Friedman no pudo descifrar el mensaje. Fue entonces cuando decidimos ya proporcionar la clave correcta: _papashelado_\n",
        "\n",
        "A nuestra consideración la clave es más que suficiente, ya que seguimos el mismo proceso para cifrar pero _''en reversa''_, es decir, partimos el cifrado en bloques de acuerdo a la longitud de la clave y vemos las letras coincidentes en la tabla de Vigenere.\n",
        "\n",
        "Sin embargo, a pesar de proporcionarle la clave a chatGPT no fue capaz de descifrarlo, las respuestas no se acercaban ni un poco a lo que realmente decía el texto descifrado, algunas respuestas fueron:\n",
        "\n",
        "> elcifradovigenereesunsistemadecifradopolialfabeticobasadoenunaseriededesplazamientosdelasletrasdelelalfabetoelpatrongeneralqueutilizaelpseudoclaveestadeterminadoporlapropiaclavequeesunapalabraophrasedealgunasletrasqueserepitehastacompletarellargodeltextocuandoseaplicaunciertodesplazamientodelasletrassegunlasletrasdelapalabraclaveparaencriptareldatoseutilizaunpatronsemejanteavariosalfabetoscesardondecadaletradesplazaeltextoenunciadooriginalunnumerodeterminadodeposicionesenelfinaldelalfabeto\n",
        "\n",
        "> elcifradovigenereconsisteenunsistemadecifradopolialfabeticobasadoenunaseriededesplazamientosdelasletrasdelalfabetoelpatrongeneralqueutilizaelpseudoclaveestadeterminadoporlapropiaclavequeesunapalabraofrasedealgunasletrasqueserepitehastacompletarellargodeltextocuandoseaplicaunciertodesplazamientodelasletrassegunlasletrasdelapalabraclaveparaencriptareldatoseutilizaunpatronsemejanteavariosalfabetoscesardondecadaletradesplazaeltextoenunciadooriginalunnumerodeterminadodeposicionesenelfinaldelalfabeto\n",
        "\n",
        "Al decirle que no tiene nada que ver\n",
        "\n",
        "> laprimeravezquesupededondeseencontrabaelpapelnosoportelafelicesaltomientrasgritabadesafianteapapasheladoquenuncapodriaencontrarloynuncafueencontradopararompersuhistoriacuandonadieesperabasuraparicioncomounfenomenodivertidoapapasheladonopareciamolestarlemasqueeldescubrimientofueunfenomenomundialdesdeentonceselpapelnoshaacompañadocomounsimbolodeirreverenciaylalocuracuandonadieloesperaba\n",
        "\n",
        "\n",
        "Al escribir que se trata de una canción\n",
        "\n",
        "> yonolosvividoymehesentido\n",
        "lapasiondealgoproporcionadonossiempremeenloquehagofrenteati\n",
        "\n",
        "Al escribir que se trata de una canción de José Madero\n",
        "\n",
        "> noseasimpulsivanoestesahiladonoquedescubiertoaunquieroregresaatuesconditehastamañanasomoslagentelocanosomosdecalleynohaytemporadaparahielo\n",
        "\n",
        "Siendo más específicos que se trata de la canción _Conversaciones sobre antomía de José Madero_\n",
        "\n",
        "> yanosoyelpresidenteytuvidanomeinteresa\n",
        "segurotienenimportantescuestionesqueconmigoquisierantratar\n",
        "eneltechohayunasalida\n",
        "jijosmevaacostarmuchoyyameestanporarreglar\n",
        "\n",
        "Dadas todas las pistas proporcionadas, incluso más que la clave, no fue capaz de descifrar el texto de manera correcta. Podríamos argumentar que tal vez fue porque no estaba en su base de datos ya que llega hasta septiembre de 2021, pero tomando en cuenta que la canción fue publicada en 2016 y está de manera pública en youtube este argumento no es válido ya que _debería estar_ en su base de datos.\n",
        "\n"
      ],
      "metadata": {
        "id": "CI_rj4yL8yg-"
      }
    },
    {
      "cell_type": "markdown",
      "source": [
        "### **5. Conclusión**"
      ],
      "metadata": {
        "id": "IbkEICeVHeef"
      }
    },
    {
      "cell_type": "markdown",
      "source": [
        "Nos pareció bastante interesante que ChatGPT no pudiera descifrarlo de manera correcta ya que al tratarse de una Inteligencia Artificial popular por _``ser de las más poderosas''_ sea incapaz de descifrarlo aun dando la misma clave y pistas más allá de la clave, como de donde fue extraído el texto.\n",
        "\n",
        "Esto indicaría que:\n",
        "1. Descifrar el texto, aún con la clave, es una tarea difícil\n",
        "2. La IA ChatGPT no fue entrenada para descifrar textos\n",
        "\n",
        "Ambas son igual de interesantes. Lo sería aún más probando en otras IA's tal como Bard de google para ver que resultados arroja."
      ],
      "metadata": {
        "id": "07jPivwkHklR"
      }
    }
  ]
}